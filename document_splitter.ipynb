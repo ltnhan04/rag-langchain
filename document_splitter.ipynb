{
 "cells": [
  {
   "cell_type": "markdown",
   "id": "5f338307",
   "metadata": {},
   "source": [
    "1. Character splitter"
   ]
  },
  {
   "cell_type": "code",
   "execution_count": 1,
   "id": "2affed3c",
   "metadata": {},
   "outputs": [],
   "source": [
    "from langchain_text_splitters import RecursiveCharacterTextSplitter"
   ]
  },
  {
   "cell_type": "code",
   "execution_count": 4,
   "id": "01b12d0b",
   "metadata": {},
   "outputs": [
    {
     "name": "stdout",
     "output_type": "stream",
     "text": [
      "[\"This way, self.web_paths will always be a list of strings, whether web_path is a single string or a sequence of strings.As for the commit you mentioned, I'm unable to find the specific changes that could have caused the WebBaseLoader to break. Could you please provide more details about the changes\", 'details about the changes in that commit? Thank you for your patience and cooperation.']\n"
     ]
    }
   ],
   "source": [
    "from typing import List\n",
    "\n",
    "text_data = \"This way, self.web_paths will always be a list of strings, whether web_path is a single string or a sequence of strings.As for the commit you mentioned, I'm unable to find the specific changes that could have caused the WebBaseLoader to break. Could you please provide more details about the changes in that commit? Thank you for your patience and cooperation.\"\n",
    "\n",
    "chunk_size = 300\n",
    "chunk_overlap = 30\n",
    "separators: List[str] = ['\\n\\n', '\\n', ' ', '']\n",
    "\n",
    "char_splitter = RecursiveCharacterTextSplitter(\n",
    "    chunk_size=chunk_size,\n",
    "    chunk_overlap=chunk_overlap,\n",
    "    length_function = len,\n",
    "    is_separator_regex= False,\n",
    "    separators=separators\n",
    ")\n",
    "\n",
    "text_out = char_splitter.split_text(text_data)\n",
    "print(text_out)"
   ]
  }
 ],
 "metadata": {
  "kernelspec": {
   "display_name": "venv (3.12.3)",
   "language": "python",
   "name": "python3"
  },
  "language_info": {
   "codemirror_mode": {
    "name": "ipython",
    "version": 3
   },
   "file_extension": ".py",
   "mimetype": "text/x-python",
   "name": "python",
   "nbconvert_exporter": "python",
   "pygments_lexer": "ipython3",
   "version": "3.12.3"
  }
 },
 "nbformat": 4,
 "nbformat_minor": 5
}
