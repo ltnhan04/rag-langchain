{
 "cells": [
  {
   "cell_type": "markdown",
   "id": "537bdc7a",
   "metadata": {},
   "source": [
    "1. Hugging Face Models"
   ]
  },
  {
   "cell_type": "code",
   "execution_count": 11,
   "id": "da32280f",
   "metadata": {},
   "outputs": [
    {
     "name": "stderr",
     "output_type": "stream",
     "text": [
      "/home/l4x/Documents/SE/project/learn-python/langchain/venv/lib/python3.12/site-packages/tqdm/auto.py:21: TqdmWarning: IProgress not found. Please update jupyter and ipywidgets. See https://ipywidgets.readthedocs.io/en/stable/user_install.html\n",
      "  from .autonotebook import tqdm as notebook_tqdm\n"
     ]
    }
   ],
   "source": [
    "import torch\n",
    "from transformers import AutoTokenizer, AutoModelForCausalLM, pipeline\n",
    "from langchain_huggingface import HuggingFacePipeline\n"
   ]
  },
  {
   "cell_type": "markdown",
   "id": "349dbc69",
   "metadata": {},
   "source": [
    "1.1. Load models from hugging face"
   ]
  },
  {
   "cell_type": "code",
   "execution_count": 12,
   "id": "f3633d17",
   "metadata": {},
   "outputs": [
    {
     "name": "stderr",
     "output_type": "stream",
     "text": [
      "Loading checkpoint shards: 100%|██████████| 2/2 [00:00<00:00,  9.27it/s]\n",
      "Device set to use cpu\n"
     ]
    }
   ],
   "source": [
    "model_name = \"microsoft/phi-2\"\n",
    "tokenizer = AutoTokenizer.from_pretrained(model_name)\n",
    "max_new_token = 1024\n",
    "model = AutoModelForCausalLM.from_pretrained(model_name, torch_dtype=torch.float16, device_map=None)\n",
    "model_pipe = pipeline(\n",
    "    \"text-generation\", \n",
    "    model = model, \n",
    "    tokenizer = tokenizer,\n",
    "    max_new_tokens = max_new_token,\n",
    "    pad_token_id = tokenizer.eos_token_id,\n",
    "    temperature=0.7,\n",
    "    device=-1\n",
    ")"
   ]
  },
  {
   "cell_type": "code",
   "execution_count": 13,
   "id": "bbc60117",
   "metadata": {},
   "outputs": [],
   "source": [
    "llm = HuggingFacePipeline(\n",
    "    pipeline = model_pipe,\n",
    ")"
   ]
  },
  {
   "cell_type": "code",
   "execution_count": 14,
   "id": "a611003b",
   "metadata": {},
   "outputs": [],
   "source": [
    "from langchain_core.prompts import PromptTemplate\n",
    "prompt_template = PromptTemplate.from_template(\n",
    "\"\"\"\n",
    "Instruct: {prompt}\\nOutput: \n",
    "\"\"\"\n",
    ")\n",
    "user_prompt = \"Write a detailed analogy between mathematics and a lighthouse\"\n",
    "messages = prompt_template.format(prompt = user_prompt)"
   ]
  },
  {
   "cell_type": "code",
   "execution_count": 15,
   "id": "766c9563",
   "metadata": {},
   "outputs": [
    {
     "name": "stdout",
     "output_type": "stream",
     "text": [
      "\n",
      "Instruct: Write a detailed analogy between mathematics and a lighthouse\n",
      "Output: \n",
      "\n",
      "Mathematics is like a lighthouse. Just as a lighthouse stands tall and guides ships safely to shore, mathematics provides a guiding light for solving problems and making logical connections. A lighthouse uses a beam of light to illuminate the dark and unknown, just as mathematics sheds light on complex concepts and helps us navigate through the uncertainties of life. Like a lighthouse, mathematics is built on a solid foundation and relies on precise calculations and logical reasoning to guide us in the right direction. Furthermore, just as a lighthouse can be seen from far away, mathematics is a universal language that transcends cultural and geographical boundaries. It is a beacon of knowledge that has shaped the world and continues to inspire new discoveries and advancements.\n",
      "\n"
     ]
    }
   ],
   "source": [
    "result = llm.invoke(messages)\n",
    "print(result)"
   ]
  },
  {
   "cell_type": "code",
   "execution_count": null,
   "id": "37e9ea55",
   "metadata": {},
   "outputs": [],
   "source": []
  }
 ],
 "metadata": {
  "kernelspec": {
   "display_name": "venv (3.12.3)",
   "language": "python",
   "name": "python3"
  },
  "language_info": {
   "codemirror_mode": {
    "name": "ipython",
    "version": 3
   },
   "file_extension": ".py",
   "mimetype": "text/x-python",
   "name": "python",
   "nbconvert_exporter": "python",
   "pygments_lexer": "ipython3",
   "version": "3.12.3"
  }
 },
 "nbformat": 4,
 "nbformat_minor": 5
}
