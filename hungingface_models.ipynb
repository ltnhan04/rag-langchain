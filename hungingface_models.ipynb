{
 "cells": [
  {
   "cell_type": "markdown",
   "id": "537bdc7a",
   "metadata": {},
   "source": [
    "1. Hugging Face Models"
   ]
  },
  {
   "cell_type": "code",
   "execution_count": 7,
   "id": "da32280f",
   "metadata": {},
   "outputs": [],
   "source": [
    "import torch\n",
    "from transformers import AutoTokenizer, AutoModelForCausalLM, pipeline\n",
    "from langchain_huggingface import HuggingFacePipeline\n"
   ]
  },
  {
   "cell_type": "markdown",
   "id": "349dbc69",
   "metadata": {},
   "source": [
    "1.1. Load models from hugging face"
   ]
  },
  {
   "cell_type": "code",
   "execution_count": 8,
   "id": "f3633d17",
   "metadata": {},
   "outputs": [
    {
     "name": "stderr",
     "output_type": "stream",
     "text": [
      "Loading checkpoint shards: 100%|██████████| 2/2 [00:00<00:00, 12.80it/s]\n",
      "Device set to use cpu\n"
     ]
    }
   ],
   "source": [
    "model_name = \"microsoft/phi-2\"\n",
    "tokenizer = AutoTokenizer.from_pretrained(model_name)\n",
    "max_new_token = 1024\n",
    "model = AutoModelForCausalLM.from_pretrained(model_name, torch_dtype=torch.float16, device_map=None)\n",
    "model_pipe = pipeline(\n",
    "    \"text-generation\", \n",
    "    model = model, \n",
    "    tokenizer = tokenizer,\n",
    "    max_new_tokens = max_new_token,\n",
    "    pad_token_id = tokenizer.eos_token_id,\n",
    "    temperature=0.7,\n",
    "    device=-1\n",
    ")"
   ]
  },
  {
   "cell_type": "code",
   "execution_count": 9,
   "id": "bbc60117",
   "metadata": {},
   "outputs": [],
   "source": [
    "llm = HuggingFacePipeline(\n",
    "    pipeline = model_pipe,\n",
    ")"
   ]
  },
  {
   "cell_type": "code",
   "execution_count": 11,
   "id": "766c9563",
   "metadata": {},
   "outputs": [
    {
     "name": "stdout",
     "output_type": "stream",
     "text": [
      "Solve this problem: 1 + 1 = ?\n",
      "Answer: 1 + 1 = 2\n",
      "\n"
     ]
    }
   ],
   "source": [
    "result = llm.invoke(\"Solve this problem: 1 + 1 = ?\")\n",
    "print(result)"
   ]
  }
 ],
 "metadata": {
  "kernelspec": {
   "display_name": "venv (3.12.3)",
   "language": "python",
   "name": "python3"
  },
  "language_info": {
   "codemirror_mode": {
    "name": "ipython",
    "version": 3
   },
   "file_extension": ".py",
   "mimetype": "text/x-python",
   "name": "python",
   "nbconvert_exporter": "python",
   "pygments_lexer": "ipython3",
   "version": "3.12.3"
  }
 },
 "nbformat": 4,
 "nbformat_minor": 5
}
