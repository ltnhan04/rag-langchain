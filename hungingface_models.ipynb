{
 "cells": [
  {
   "cell_type": "markdown",
   "id": "537bdc7a",
   "metadata": {},
   "source": [
    "1. Hugging Face Models"
   ]
  },
  {
   "cell_type": "code",
   "execution_count": 11,
   "id": "da32280f",
   "metadata": {},
   "outputs": [
    {
     "name": "stderr",
     "output_type": "stream",
     "text": [
      "/home/l4x/Documents/SE/project/learn-python/langchain/venv/lib/python3.12/site-packages/tqdm/auto.py:21: TqdmWarning: IProgress not found. Please update jupyter and ipywidgets. See https://ipywidgets.readthedocs.io/en/stable/user_install.html\n",
      "  from .autonotebook import tqdm as notebook_tqdm\n"
     ]
    }
   ],
   "source": [
    "import torch\n",
    "from transformers import AutoTokenizer, AutoModelForCausalLM, pipeline\n",
    "from langchain_huggingface import HuggingFacePipeline\n"
   ]
  },
  {
   "cell_type": "markdown",
   "id": "349dbc69",
   "metadata": {},
   "source": [
    "1.1. Load models from hugging face"
   ]
  },
  {
   "cell_type": "code",
   "execution_count": 12,
   "id": "f3633d17",
   "metadata": {},
   "outputs": [
    {
     "name": "stderr",
     "output_type": "stream",
     "text": [
      "Loading checkpoint shards: 100%|██████████| 2/2 [00:00<00:00,  9.27it/s]\n",
      "Device set to use cpu\n"
     ]
    }
   ],
   "source": [
    "model_name = \"microsoft/phi-2\"\n",
    "tokenizer = AutoTokenizer.from_pretrained(model_name)\n",
    "max_new_token = 1024\n",
    "model = AutoModelForCausalLM.from_pretrained(model_name, torch_dtype=torch.float16, device_map=None)\n",
    "model_pipe = pipeline(\n",
    "    \"text-generation\", \n",
    "    model = model, \n",
    "    tokenizer = tokenizer,\n",
    "    max_new_tokens = max_new_token,\n",
    "    pad_token_id = tokenizer.eos_token_id,\n",
    "    temperature=0.7,\n",
    "    device=-1\n",
    ")"
   ]
  },
  {
   "cell_type": "code",
   "execution_count": 13,
   "id": "bbc60117",
   "metadata": {},
   "outputs": [],
   "source": [
    "llm = HuggingFacePipeline(\n",
    "    pipeline = model_pipe,\n",
    ")"
   ]
  },
  {
   "cell_type": "code",
   "execution_count": 17,
   "id": "a611003b",
   "metadata": {},
   "outputs": [],
   "source": [
    "from langchain_core.prompts import PromptTemplate\n",
    "prompt_template = PromptTemplate.from_template(\n",
    "\"\"\"\n",
    "Instruct: {prompt}\\nOutput: \n",
    "\"\"\"\n",
    ")\n",
    "chain = prompt_template | llm"
   ]
  },
  {
   "cell_type": "code",
   "execution_count": 20,
   "id": "766c9563",
   "metadata": {},
   "outputs": [
    {
     "name": "stdout",
     "output_type": "stream",
     "text": [
      "\n",
      "Instruct: Write a detailed analogy between mathematics and a lighthouse\n",
      "Output: \n",
      "Just as a lighthouse guides ships safely through treacherous waters, mathematics acts as a guiding light, illuminating the path to understanding and knowledge. Mathematics provides us with a set of tools and principles that enable us to navigate through complex problems and arrive at logical and rational conclusions.\n",
      "\n",
      "Similar to how a lighthouse emits a bright and steady beam of light, mathematics provides us with a foundation of logic and reasoning that allows us to make sense of the world around us. It helps us to organize information, identify patterns, and make predictions based on evidence and data.\n",
      "\n",
      "Just as a lighthouse's beam cuts through the darkness, mathematics allows us to cut through ambiguity and uncertainty, providing us with clarity and precision. It helps us to analyze and interpret information, enabling us to make informed decisions and solve complex problems.\n",
      "\n",
      "Much like how a lighthouse serves as a beacon of hope and safety for sailors, mathematics serves as a beacon of understanding and enlightenment for all those who seek knowledge. It empowers us to explore new frontiers, discover hidden truths, and unlock the mysteries of the universe.\n",
      "\n",
      "In summary, mathematics is like a lighthouse that guides us through the vast ocean of knowledge, helping us navigate through the complexities of life. It provides us with a steady beam of logic and reasoning, illuminating the path to understanding and enlightenment.\n",
      "\n"
     ]
    }
   ],
   "source": [
    "result = chain.invoke({\n",
    "    \"prompt\": \"Write a detailed analogy between mathematics and a lighthouse\"\n",
    "})\n",
    "print(result)\n"
   ]
  },
  {
   "cell_type": "code",
   "execution_count": null,
   "id": "37e9ea55",
   "metadata": {},
   "outputs": [],
   "source": []
  }
 ],
 "metadata": {
  "kernelspec": {
   "display_name": "venv (3.12.3)",
   "language": "python",
   "name": "python3"
  },
  "language_info": {
   "codemirror_mode": {
    "name": "ipython",
    "version": 3
   },
   "file_extension": ".py",
   "mimetype": "text/x-python",
   "name": "python",
   "nbconvert_exporter": "python",
   "pygments_lexer": "ipython3",
   "version": "3.12.3"
  }
 },
 "nbformat": 4,
 "nbformat_minor": 5
}
