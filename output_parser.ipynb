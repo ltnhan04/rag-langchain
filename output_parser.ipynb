{
 "cells": [
  {
   "cell_type": "code",
   "execution_count": 26,
   "id": "e5e737b3",
   "metadata": {},
   "outputs": [
    {
     "name": "stderr",
     "output_type": "stream",
     "text": [
      "Loading checkpoint shards: 100%|██████████| 2/2 [00:00<00:00, 14.34it/s]\n",
      "Device set to use cpu\n"
     ]
    }
   ],
   "source": [
    "import torch\n",
    "from transformers import AutoTokenizer, AutoModelForCausalLM, pipeline\n",
    "from langchain_huggingface import HuggingFacePipeline\n",
    "\n",
    "model_name = \"microsoft/phi-2\"\n",
    "tokenizer = AutoTokenizer.from_pretrained(model_name)\n",
    "max_new_token = 1024\n",
    "model = AutoModelForCausalLM.from_pretrained(model_name, torch_dtype = torch.float16, device_map=None)\n",
    "model_pipeline = pipeline(\n",
    "    \"text-generation\",\n",
    "    model = model,\n",
    "    tokenizer = tokenizer,\n",
    "    pad_token_id = tokenizer.eos_token_id,\n",
    "    device = -1\n",
    ")\n",
    "llm = HuggingFacePipeline(\n",
    "    pipeline = model_pipeline\n",
    ")"
   ]
  },
  {
   "cell_type": "markdown",
   "id": "b16f7f5e",
   "metadata": {},
   "source": [
    "1. Json Parser"
   ]
  },
  {
   "cell_type": "code",
   "execution_count": 27,
   "id": "711b8385",
   "metadata": {},
   "outputs": [],
   "source": [
    "from pydantic import BaseModel, Field\n",
    "\n",
    "class Joke(BaseModel):\n",
    "    setup: str = Field(description = \"question to set up a joke\")\n",
    "    punchline:str = Field(description = \"answer to resolve a joke\")"
   ]
  },
  {
   "cell_type": "code",
   "execution_count": 28,
   "id": "b564c425",
   "metadata": {},
   "outputs": [],
   "source": [
    "from langchain_core.output_parsers import JsonOutputParser\n",
    "from pydantic import BaseModel, Field\n",
    "\n",
    "class Joke(BaseModel):\n",
    "    setup: str = Field(description = \"question to set up a joke\")\n",
    "    punchline: str = Field(description = \"answer to resolve a joke\")\n",
    "\n",
    "parser = JsonOutputParser(pydantic_object = Joke)\n"
   ]
  },
  {
   "cell_type": "markdown",
   "id": "927890d9",
   "metadata": {},
   "source": [
    "2. Prompt Template"
   ]
  },
  {
   "cell_type": "code",
   "execution_count": 29,
   "id": "584b5d65",
   "metadata": {},
   "outputs": [],
   "source": [
    "from langchain_core.prompts import PromptTemplate\n",
    "\n",
    "prompt = PromptTemplate(\n",
    "    template = \"Answer user query.\\n{format_instructions}\\n{query}\\n\",\n",
    "    input_variables = [\"query\"],\n",
    "    partial_variables = {\"format_instructions\": parser.get_format_instructions()}\n",
    ")\n"
   ]
  },
  {
   "cell_type": "markdown",
   "id": "9dd1b8ed",
   "metadata": {},
   "source": [
    "3. Chain"
   ]
  },
  {
   "cell_type": "code",
   "execution_count": 31,
   "id": "870972b6",
   "metadata": {},
   "outputs": [
    {
     "data": {
      "text/plain": [
       "{'properties': {'setup': {'description': 'question to set up a joke',\n",
       "   'title': 'Setup',\n",
       "   'type': 'string'},\n",
       "  'punchline': {'description': 'answer to resolve a joke',\n",
       "   'title': 'Punchline',\n",
       "   'type': 'string'}},\n",
       " 'required': ['setup', 'punchline']}"
      ]
     },
     "execution_count": 31,
     "metadata": {},
     "output_type": "execute_result"
    }
   ],
   "source": [
    "chain = prompt | llm\n",
    "\n",
    "joke_query = \"Tell me a fun joke\"\n",
    "output = chain.invoke({\"query\": joke_query})\n",
    "\n",
    "parser_output = parser.invoke(output)\n",
    "parser_output"
   ]
  }
 ],
 "metadata": {
  "kernelspec": {
   "display_name": "venv (3.12.3)",
   "language": "python",
   "name": "python3"
  },
  "language_info": {
   "codemirror_mode": {
    "name": "ipython",
    "version": 3
   },
   "file_extension": ".py",
   "mimetype": "text/x-python",
   "name": "python",
   "nbconvert_exporter": "python",
   "pygments_lexer": "ipython3",
   "version": "3.12.3"
  }
 },
 "nbformat": 4,
 "nbformat_minor": 5
}
