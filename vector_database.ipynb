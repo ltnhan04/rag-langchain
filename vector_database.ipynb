{
 "cells": [
  {
   "cell_type": "markdown",
   "id": "bd97e9b6",
   "metadata": {},
   "source": [
    "1. Load document"
   ]
  },
  {
   "cell_type": "code",
   "execution_count": 37,
   "id": "c6de7fc9",
   "metadata": {},
   "outputs": [],
   "source": [
    "from langchain_community.document_loaders import PyPDFDirectoryLoader\n",
    "path_dir = './data_source'\n",
    "pdf_loader = PyPDFDirectoryLoader(path_dir)\n",
    "pdf_pages = pdf_loader.load()\n"
   ]
  },
  {
   "cell_type": "markdown",
   "id": "27b1d865",
   "metadata": {},
   "source": [
    "2. Split document"
   ]
  },
  {
   "cell_type": "code",
   "execution_count": 38,
   "id": "6ed8e113",
   "metadata": {},
   "outputs": [],
   "source": [
    "from langchain_text_splitters import RecursiveCharacterTextSplitter\n",
    "from typing import List"
   ]
  },
  {
   "cell_type": "code",
   "execution_count": 39,
   "id": "d679c2b4",
   "metadata": {},
   "outputs": [
    {
     "data": {
      "text/plain": [
       "180"
      ]
     },
     "execution_count": 39,
     "metadata": {},
     "output_type": "execute_result"
    }
   ],
   "source": [
    "\n",
    "chunk_size = 300\n",
    "chunk_overlap = 30\n",
    "separators: List[str] = ['\\n\\n', '\\n', ' ', ''] \n",
    "\n",
    "splitter = RecursiveCharacterTextSplitter(\n",
    "    chunk_size = chunk_size,\n",
    "    chunk_overlap = chunk_overlap,\n",
    "    separators = separators,\n",
    "    is_separator_regex = False,\n",
    "    length_function = len,\n",
    ")\n",
    "\n",
    "docs = splitter.split_documents(pdf_pages)\n",
    "      \n",
    "cleaned_docs = [doc for doc in docs if isinstance(doc.page_content, str) and len(doc.page_content.strip()) > 0]\n",
    "\n",
    "len(cleaned_docs)"
   ]
  },
  {
   "cell_type": "markdown",
   "id": "2483134e",
   "metadata": {},
   "source": [
    "3. Embedding Model"
   ]
  },
  {
   "cell_type": "code",
   "execution_count": 40,
   "id": "5aeff484",
   "metadata": {},
   "outputs": [],
   "source": [
    "from langchain_community.embeddings import HuggingFaceEmbeddings"
   ]
  },
  {
   "cell_type": "code",
   "execution_count": 41,
   "id": "bd60857e",
   "metadata": {},
   "outputs": [],
   "source": [
    "embedding_model = HuggingFaceEmbeddings(\n",
    "    model_name=\"sentence-transformers/all-MiniLM-L6-v2\"\n",
    ")"
   ]
  },
  {
   "cell_type": "markdown",
   "id": "f5401067",
   "metadata": {},
   "source": [
    "4. Chroma vector database"
   ]
  },
  {
   "cell_type": "code",
   "execution_count": 42,
   "id": "fad43181",
   "metadata": {},
   "outputs": [],
   "source": [
    "from langchain_community.vectorstores import Chroma"
   ]
  },
  {
   "cell_type": "code",
   "execution_count": 43,
   "id": "c2acd0f3",
   "metadata": {},
   "outputs": [],
   "source": [
    "chroma_db = Chroma.from_documents(documents=cleaned_docs, embedding=embedding_model)"
   ]
  },
  {
   "cell_type": "code",
   "execution_count": 44,
   "id": "399bbc3c",
   "metadata": {},
   "outputs": [],
   "source": [
    "query = \"what is GNNs\""
   ]
  },
  {
   "cell_type": "code",
   "execution_count": 45,
   "id": "b067a135",
   "metadata": {},
   "outputs": [
    {
     "data": {
      "text/plain": [
       "[Document(metadata={'source': 'data_source/2.+Exploringthepotential.pdf', 'creator': 'Microsoft® Word 2010 Trial', 'page': 1, 'producer': 'Microsoft® Word 2010 Trial', 'author': 'Administrator', 'creationdate': '2025-06-06T15:21:03+07:00', 'moddate': '2025-06-06T15:21:03+07:00', 'total_pages': 11, 'page_label': '2'}, page_content='The core mechanism of GNNs is message passing  – a process in which information is exchanged between \\nneighboring nodes through edges. In each computational layer, a node aggregates mess ages from its'),\n",
       " Document(metadata={'creationdate': '2025-06-06T15:21:03+07:00', 'creator': 'Microsoft® Word 2010 Trial', 'page': 1, 'moddate': '2025-06-06T15:21:03+07:00', 'total_pages': 11, 'producer': 'Microsoft® Word 2010 Trial', 'author': 'Administrator', 'page_label': '2', 'source': 'data_source/2.+Exploringthepotential.pdf'}, page_content='The core mechanism of GNNs is message passing  – a process in which information is exchanged between \\nneighboring nodes through edges. In each computational layer, a node aggregates mess ages from its'),\n",
       " Document(metadata={'author': 'Administrator', 'page': 2, 'page_label': '3', 'source': 'data_source/2.+Exploringthepotential.pdf', 'producer': 'Microsoft® Word 2010 Trial', 'moddate': '2025-06-06T15:21:03+07:00', 'creationdate': '2025-06-06T15:21:03+07:00', 'total_pages': 11, 'creator': 'Microsoft® Word 2010 Trial'}, page_content='system to better interpret complex emotional expressions that may be overlooked by other approaches . \\nDespite their advantages, GNNs also face notable limitations. One of their gre atest strengths – the ability to'),\n",
       " Document(metadata={'creationdate': '2025-06-06T15:21:03+07:00', 'total_pages': 11, 'source': 'data_source/2.+Exploringthepotential.pdf', 'page_label': '3', 'author': 'Administrator', 'page': 2, 'moddate': '2025-06-06T15:21:03+07:00', 'producer': 'Microsoft® Word 2010 Trial', 'creator': 'Microsoft® Word 2010 Trial'}, page_content='system to better interpret complex emotional expressions that may be overlooked by other approaches . \\nDespite their advantages, GNNs also face notable limitations. One of their gre atest strengths – the ability to')]"
      ]
     },
     "execution_count": 45,
     "metadata": {},
     "output_type": "execute_result"
    }
   ],
   "source": [
    "similar_docs = chroma_db.similarity_search(query, k = 4)\n",
    "similar_docs"
   ]
  }
 ],
 "metadata": {
  "kernelspec": {
   "display_name": "venv (3.12.3)",
   "language": "python",
   "name": "python3"
  },
  "language_info": {
   "codemirror_mode": {
    "name": "ipython",
    "version": 3
   },
   "file_extension": ".py",
   "mimetype": "text/x-python",
   "name": "python",
   "nbconvert_exporter": "python",
   "pygments_lexer": "ipython3",
   "version": "3.12.3"
  }
 },
 "nbformat": 4,
 "nbformat_minor": 5
}
