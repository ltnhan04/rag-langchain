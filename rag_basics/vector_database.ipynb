{
 "cells": [
  {
   "cell_type": "markdown",
   "id": "bd97e9b6",
   "metadata": {},
   "source": [
    "1. Load document"
   ]
  },
  {
   "cell_type": "code",
   "execution_count": 1,
   "id": "c6de7fc9",
   "metadata": {},
   "outputs": [],
   "source": [
    "from langchain_community.document_loaders import PyPDFDirectoryLoader\n",
    "path_dir = './data_source'\n",
    "pdf_loader = PyPDFDirectoryLoader(path_dir)\n",
    "pdf_pages = pdf_loader.load()\n"
   ]
  },
  {
   "cell_type": "markdown",
   "id": "27b1d865",
   "metadata": {},
   "source": [
    "2. Split document"
   ]
  },
  {
   "cell_type": "code",
   "execution_count": 2,
   "id": "6ed8e113",
   "metadata": {},
   "outputs": [],
   "source": [
    "from langchain_text_splitters import RecursiveCharacterTextSplitter\n",
    "from typing import List"
   ]
  },
  {
   "cell_type": "code",
   "execution_count": 3,
   "id": "d679c2b4",
   "metadata": {},
   "outputs": [
    {
     "data": {
      "text/plain": [
       "180"
      ]
     },
     "execution_count": 3,
     "metadata": {},
     "output_type": "execute_result"
    }
   ],
   "source": [
    "\n",
    "chunk_size = 300\n",
    "chunk_overlap = 30\n",
    "separators: List[str] = ['\\n\\n', '\\n', ' ', ''] \n",
    "\n",
    "splitter = RecursiveCharacterTextSplitter(\n",
    "    chunk_size = chunk_size,\n",
    "    chunk_overlap = chunk_overlap,\n",
    "    separators = separators,\n",
    "    is_separator_regex = False,\n",
    "    length_function = len,\n",
    ")\n",
    "\n",
    "docs = splitter.split_documents(pdf_pages)\n",
    "      \n",
    "cleaned_docs = [doc for doc in docs if isinstance(doc.page_content, str) and len(doc.page_content.strip()) > 0]\n",
    "\n",
    "len(cleaned_docs)"
   ]
  },
  {
   "cell_type": "markdown",
   "id": "2483134e",
   "metadata": {},
   "source": [
    "3. Embedding Model"
   ]
  },
  {
   "cell_type": "code",
   "execution_count": 4,
   "id": "5aeff484",
   "metadata": {},
   "outputs": [],
   "source": [
    "from langchain_community.embeddings import HuggingFaceEmbeddings"
   ]
  },
  {
   "cell_type": "code",
   "execution_count": 5,
   "id": "bd60857e",
   "metadata": {},
   "outputs": [
    {
     "name": "stderr",
     "output_type": "stream",
     "text": [
      "/tmp/ipykernel_11464/2127729888.py:1: LangChainDeprecationWarning: The class `HuggingFaceEmbeddings` was deprecated in LangChain 0.2.2 and will be removed in 1.0. An updated version of the class exists in the :class:`~langchain-huggingface package and should be used instead. To use it run `pip install -U :class:`~langchain-huggingface` and import as `from :class:`~langchain_huggingface import HuggingFaceEmbeddings``.\n",
      "  embedding_model = HuggingFaceEmbeddings(\n",
      "/home/l4x/Documents/SE/project/learn-python/langchain/venv/lib/python3.12/site-packages/tqdm/auto.py:21: TqdmWarning: IProgress not found. Please update jupyter and ipywidgets. See https://ipywidgets.readthedocs.io/en/stable/user_install.html\n",
      "  from .autonotebook import tqdm as notebook_tqdm\n"
     ]
    }
   ],
   "source": [
    "embedding_model = HuggingFaceEmbeddings(\n",
    "    model_name=\"sentence-transformers/all-MiniLM-L6-v2\"\n",
    ")"
   ]
  },
  {
   "cell_type": "markdown",
   "id": "f5401067",
   "metadata": {},
   "source": [
    "4. Chroma vector database"
   ]
  },
  {
   "cell_type": "code",
   "execution_count": 6,
   "id": "fad43181",
   "metadata": {},
   "outputs": [],
   "source": [
    "from langchain_community.vectorstores import Chroma"
   ]
  },
  {
   "cell_type": "code",
   "execution_count": 7,
   "id": "c2acd0f3",
   "metadata": {},
   "outputs": [],
   "source": [
    "chroma_db = Chroma.from_documents(documents=cleaned_docs, embedding=embedding_model)"
   ]
  },
  {
   "cell_type": "code",
   "execution_count": 8,
   "id": "399bbc3c",
   "metadata": {},
   "outputs": [],
   "source": [
    "query = \"what is GNNs\""
   ]
  },
  {
   "cell_type": "code",
   "execution_count": 9,
   "id": "b067a135",
   "metadata": {},
   "outputs": [
    {
     "data": {
      "text/plain": [
       "[Document(metadata={'producer': 'Microsoft® Word 2010 Trial', 'moddate': '2025-06-06T15:21:03+07:00', 'page': 1, 'creator': 'Microsoft® Word 2010 Trial', 'page_label': '2', 'source': 'data_source/2.+Exploringthepotential.pdf', 'total_pages': 11, 'creationdate': '2025-06-06T15:21:03+07:00', 'author': 'Administrator'}, page_content='The core mechanism of GNNs is message passing  – a process in which information is exchanged between \\nneighboring nodes through edges. In each computational layer, a node aggregates mess ages from its'),\n",
       " Document(metadata={'producer': 'Microsoft® Word 2010 Trial', 'total_pages': 11, 'author': 'Administrator', 'creator': 'Microsoft® Word 2010 Trial', 'creationdate': '2025-06-06T15:21:03+07:00', 'page': 2, 'source': 'data_source/2.+Exploringthepotential.pdf', 'page_label': '3', 'moddate': '2025-06-06T15:21:03+07:00'}, page_content='system to better interpret complex emotional expressions that may be overlooked by other approaches . \\nDespite their advantages, GNNs also face notable limitations. One of their gre atest strengths – the ability to'),\n",
       " Document(metadata={'creationdate': '2025-06-06T15:21:03+07:00', 'page_label': '3', 'source': 'data_source/2.+Exploringthepotential.pdf', 'author': 'Administrator', 'total_pages': 11, 'page': 2, 'producer': 'Microsoft® Word 2010 Trial', 'creator': 'Microsoft® Word 2010 Trial', 'moddate': '2025-06-06T15:21:03+07:00'}, page_content='In finance, GNNs are utilized for fraud detection by analyzing payment networks  [11]. Additionally, GNNs are \\napplied in domains such as physical simulation, traffic forecasting, and even computer vision tasks, where \\nspatial relationships are critical.'),\n",
       " Document(metadata={'creationdate': '2025-06-06T15:21:03+07:00', 'source': 'data_source/2.+Exploringthepotential.pdf', 'creator': 'Microsoft® Word 2010 Trial', 'total_pages': 11, 'producer': 'Microsoft® Word 2010 Trial', 'page': 1, 'moddate': '2025-06-06T15:21:03+07:00', 'author': 'Administrator', 'page_label': '2'}, page_content='allows GNNs to capture complex dependencies, even among distant nodes, b y stacking multiple message -\\npassing layers. \\n \\nFigure 1. Message passing mechanism between nodes')]"
      ]
     },
     "execution_count": 9,
     "metadata": {},
     "output_type": "execute_result"
    }
   ],
   "source": [
    "similar_docs = chroma_db.similarity_search(query, k = 4)\n",
    "similar_docs"
   ]
  }
 ],
 "metadata": {
  "kernelspec": {
   "display_name": "venv (3.12.3)",
   "language": "python",
   "name": "python3"
  },
  "language_info": {
   "codemirror_mode": {
    "name": "ipython",
    "version": 3
   },
   "file_extension": ".py",
   "mimetype": "text/x-python",
   "name": "python",
   "nbconvert_exporter": "python",
   "pygments_lexer": "ipython3",
   "version": "3.12.3"
  }
 },
 "nbformat": 4,
 "nbformat_minor": 5
}
