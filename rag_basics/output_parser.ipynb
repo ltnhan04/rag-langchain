{
 "cells": [
  {
   "cell_type": "code",
   "execution_count": 2,
   "id": "e5e737b3",
   "metadata": {},
   "outputs": [
    {
     "name": "stderr",
     "output_type": "stream",
     "text": [
      "/home/l4x/Documents/SE/project/learn-python/langchain/venv/lib/python3.12/site-packages/tqdm/auto.py:21: TqdmWarning: IProgress not found. Please update jupyter and ipywidgets. See https://ipywidgets.readthedocs.io/en/stable/user_install.html\n",
      "  from .autonotebook import tqdm as notebook_tqdm\n",
      "Loading checkpoint shards: 100%|██████████| 2/2 [00:00<00:00,  9.04it/s]\n",
      "Device set to use cpu\n"
     ]
    }
   ],
   "source": [
    "import torch\n",
    "from transformers import AutoTokenizer, AutoModelForCausalLM, pipeline\n",
    "from langchain_huggingface import HuggingFacePipeline\n",
    "\n",
    "model_name = \"microsoft/phi-2\"\n",
    "tokenizer = AutoTokenizer.from_pretrained(model_name)\n",
    "max_new_token = 1024\n",
    "model = AutoModelForCausalLM.from_pretrained(model_name, torch_dtype = torch.float16, device_map=None)\n",
    "model_pipeline = pipeline(\n",
    "    \"text-generation\",\n",
    "    model = model,\n",
    "    tokenizer = tokenizer,\n",
    "    pad_token_id = tokenizer.eos_token_id,\n",
    "    device = -1\n",
    ")\n",
    "llm = HuggingFacePipeline(\n",
    "    pipeline = model_pipeline\n",
    ")"
   ]
  },
  {
   "cell_type": "markdown",
   "id": "b16f7f5e",
   "metadata": {},
   "source": [
    "1. Json Parser"
   ]
  },
  {
   "cell_type": "code",
   "execution_count": 3,
   "id": "711b8385",
   "metadata": {},
   "outputs": [],
   "source": [
    "from pydantic import BaseModel, Field\n",
    "\n",
    "class Joke(BaseModel):\n",
    "    setup: str = Field(description = \"question to set up a joke\")\n",
    "    punchline:str = Field(description = \"answer to resolve a joke\")"
   ]
  },
  {
   "cell_type": "code",
   "execution_count": 4,
   "id": "b564c425",
   "metadata": {},
   "outputs": [],
   "source": [
    "from langchain_core.output_parsers import JsonOutputParser\n",
    "from pydantic import BaseModel, Field\n",
    "\n",
    "class Joke(BaseModel):\n",
    "    setup: str = Field(description = \"question to set up a joke\")\n",
    "    punchline: str = Field(description = \"answer to resolve a joke\")\n",
    "\n",
    "parser = JsonOutputParser(pydantic_object = Joke)\n"
   ]
  },
  {
   "cell_type": "markdown",
   "id": "927890d9",
   "metadata": {},
   "source": [
    "2. Prompt Template"
   ]
  },
  {
   "cell_type": "code",
   "execution_count": 5,
   "id": "584b5d65",
   "metadata": {},
   "outputs": [],
   "source": [
    "from langchain_core.prompts import PromptTemplate\n",
    "\n",
    "prompt = PromptTemplate(\n",
    "    template = \"Answer user query.\\n{format_instructions}\\n{query}\\n\",\n",
    "    input_variables = [\"query\"],\n",
    "    partial_variables = {\"format_instructions\": parser.get_format_instructions()}\n",
    ")\n"
   ]
  },
  {
   "cell_type": "markdown",
   "id": "9dd1b8ed",
   "metadata": {},
   "source": [
    "3. Chain"
   ]
  },
  {
   "cell_type": "code",
   "execution_count": 6,
   "id": "870972b6",
   "metadata": {},
   "outputs": [
    {
     "name": "stdout",
     "output_type": "stream",
     "text": [
      "{'properties': {'setup': {'description': 'question to set up a joke', 'title': 'Setup', 'type': 'string'}, 'punchline': {'description': 'answer to resolve a joke', 'title': 'Punchline', 'type': 'string'}}, 'required': ['setup', 'punchline']}\n"
     ]
    }
   ],
   "source": [
    "chain = prompt | llm | parser\n",
    "\n",
    "joke_query = \"Tell me a fun joke\"\n",
    "output = chain.invoke({\"query\": joke_query})\n",
    "print(output)\n"
   ]
  }
 ],
 "metadata": {
  "kernelspec": {
   "display_name": "venv (3.12.3)",
   "language": "python",
   "name": "python3"
  },
  "language_info": {
   "codemirror_mode": {
    "name": "ipython",
    "version": 3
   },
   "file_extension": ".py",
   "mimetype": "text/x-python",
   "name": "python",
   "nbconvert_exporter": "python",
   "pygments_lexer": "ipython3",
   "version": "3.12.3"
  }
 },
 "nbformat": 4,
 "nbformat_minor": 5
}
